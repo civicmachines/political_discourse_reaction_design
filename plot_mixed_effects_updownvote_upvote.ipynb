{
 "cells": [
  {
   "cell_type": "code",
   "execution_count": 20,
   "id": "filled-bathroom",
   "metadata": {},
   "outputs": [],
   "source": [
    "# load libraries\n",
    "library(ggplot2)\n",
    "library(dplyr)"
   ]
  },
  {
   "cell_type": "code",
   "execution_count": 21,
   "id": "paperback-sydney",
   "metadata": {},
   "outputs": [],
   "source": [
    "# function to create the standard errors for the subset model estimates\n",
    "confidence_interval <- function(vector, interval) {\n",
    "  # Standard deviation of sample\n",
    "  vec_sd <- sd(vector)\n",
    "  # Sample size\n",
    "  n <- length(vector)\n",
    "  # Mean of sample\n",
    "  vec_mean <- mean(vector)\n",
    "  # Error according to t distribution\n",
    "  error <- qt((interval + 1)/2, df = n - 1) * vec_sd / sqrt(n)\n",
    "  # Confidence interval as a vector\n",
    "  result <- c(\"lower\" = vec_mean - error, \"upper\" = vec_mean + error)\n",
    "  return(result)\n",
    "}"
   ]
  },
  {
   "cell_type": "code",
   "execution_count": 22,
   "id": "future-typing",
   "metadata": {},
   "outputs": [],
   "source": [
    "list_of_reactions <- readRDS(\"./baseline_upvote_all/list_of_reactions.RDS\")"
   ]
  },
  {
   "cell_type": "code",
   "execution_count": 23,
   "id": "danish-filing",
   "metadata": {},
   "outputs": [
    {
     "data": {
      "text/html": [
       "<table class=\"dataframe\">\n",
       "<caption>A data.frame: 6 × 7</caption>\n",
       "<thead>\n",
       "\t<tr><th></th><th scope=col>x</th><th scope=col>predicted</th><th scope=col>std.error</th><th scope=col>conf.low</th><th scope=col>conf.high</th><th scope=col>group</th><th scope=col>group_col</th></tr>\n",
       "\t<tr><th></th><th scope=col>&lt;chr&gt;</th><th scope=col>&lt;dbl&gt;</th><th scope=col>&lt;dbl&gt;</th><th scope=col>&lt;dbl&gt;</th><th scope=col>&lt;dbl&gt;</th><th scope=col>&lt;fct&gt;</th><th scope=col>&lt;fct&gt;</th></tr>\n",
       "</thead>\n",
       "<tbody>\n",
       "\t<tr><th scope=row>1</th><td>deliberation</td><td> 0.034609458</td><td>0.02060145</td><td>-0.005768645</td><td>0.07498756</td><td>baseline   </td><td>baseline   </td></tr>\n",
       "\t<tr><th scope=row>2</th><td>deliberation</td><td> 0.045613262</td><td>0.02126269</td><td> 0.003939149</td><td>0.08728738</td><td>upvote_only</td><td>upvote_only</td></tr>\n",
       "\t<tr><th scope=row>3</th><td>demagoguery </td><td>-0.004034183</td><td>0.02060145</td><td>-0.044412286</td><td>0.03634392</td><td>baseline   </td><td>baseline   </td></tr>\n",
       "\t<tr><th scope=row>4</th><td>demagoguery </td><td>-0.020305674</td><td>0.02126269</td><td>-0.061979787</td><td>0.02136844</td><td>upvote_only</td><td>upvote_only</td></tr>\n",
       "\t<tr><th scope=row>5</th><td>civic       </td><td> 0.027855630</td><td>0.02060145</td><td>-0.012522473</td><td>0.06823373</td><td>baseline   </td><td>baseline   </td></tr>\n",
       "\t<tr><th scope=row>6</th><td>civic       </td><td> 0.040100274</td><td>0.02126269</td><td>-0.001573840</td><td>0.08177439</td><td>upvote_only</td><td>upvote_only</td></tr>\n",
       "</tbody>\n",
       "</table>\n"
      ],
      "text/latex": [
       "A data.frame: 6 × 7\n",
       "\\begin{tabular}{r|lllllll}\n",
       "  & x & predicted & std.error & conf.low & conf.high & group & group\\_col\\\\\n",
       "  & <chr> & <dbl> & <dbl> & <dbl> & <dbl> & <fct> & <fct>\\\\\n",
       "\\hline\n",
       "\t1 & deliberation &  0.034609458 & 0.02060145 & -0.005768645 & 0.07498756 & baseline    & baseline   \\\\\n",
       "\t2 & deliberation &  0.045613262 & 0.02126269 &  0.003939149 & 0.08728738 & upvote\\_only & upvote\\_only\\\\\n",
       "\t3 & demagoguery  & -0.004034183 & 0.02060145 & -0.044412286 & 0.03634392 & baseline    & baseline   \\\\\n",
       "\t4 & demagoguery  & -0.020305674 & 0.02126269 & -0.061979787 & 0.02136844 & upvote\\_only & upvote\\_only\\\\\n",
       "\t5 & civic        &  0.027855630 & 0.02060145 & -0.012522473 & 0.06823373 & baseline    & baseline   \\\\\n",
       "\t6 & civic        &  0.040100274 & 0.02126269 & -0.001573840 & 0.08177439 & upvote\\_only & upvote\\_only\\\\\n",
       "\\end{tabular}\n"
      ],
      "text/markdown": [
       "\n",
       "A data.frame: 6 × 7\n",
       "\n",
       "| <!--/--> | x &lt;chr&gt; | predicted &lt;dbl&gt; | std.error &lt;dbl&gt; | conf.low &lt;dbl&gt; | conf.high &lt;dbl&gt; | group &lt;fct&gt; | group_col &lt;fct&gt; |\n",
       "|---|---|---|---|---|---|---|---|\n",
       "| 1 | deliberation |  0.034609458 | 0.02060145 | -0.005768645 | 0.07498756 | baseline    | baseline    |\n",
       "| 2 | deliberation |  0.045613262 | 0.02126269 |  0.003939149 | 0.08728738 | upvote_only | upvote_only |\n",
       "| 3 | demagoguery  | -0.004034183 | 0.02060145 | -0.044412286 | 0.03634392 | baseline    | baseline    |\n",
       "| 4 | demagoguery  | -0.020305674 | 0.02126269 | -0.061979787 | 0.02136844 | upvote_only | upvote_only |\n",
       "| 5 | civic        |  0.027855630 | 0.02060145 | -0.012522473 | 0.06823373 | baseline    | baseline    |\n",
       "| 6 | civic        |  0.040100274 | 0.02126269 | -0.001573840 | 0.08177439 | upvote_only | upvote_only |\n",
       "\n"
      ],
      "text/plain": [
       "  x            predicted    std.error  conf.low     conf.high  group      \n",
       "1 deliberation  0.034609458 0.02060145 -0.005768645 0.07498756 baseline   \n",
       "2 deliberation  0.045613262 0.02126269  0.003939149 0.08728738 upvote_only\n",
       "3 demagoguery  -0.004034183 0.02060145 -0.044412286 0.03634392 baseline   \n",
       "4 demagoguery  -0.020305674 0.02126269 -0.061979787 0.02136844 upvote_only\n",
       "5 civic         0.027855630 0.02060145 -0.012522473 0.06823373 baseline   \n",
       "6 civic         0.040100274 0.02126269 -0.001573840 0.08177439 upvote_only\n",
       "  group_col  \n",
       "1 baseline   \n",
       "2 upvote_only\n",
       "3 baseline   \n",
       "4 upvote_only\n",
       "5 baseline   \n",
       "6 upvote_only"
      ]
     },
     "metadata": {},
     "output_type": "display_data"
    }
   ],
   "source": [
    "# aggregate data\n",
    "df_of_reactions <- as.data.frame(do.call(rbind, list_of_reactions))\n",
    "head(df_of_reactions)"
   ]
  },
  {
   "cell_type": "code",
   "execution_count": 24,
   "id": "german-transportation",
   "metadata": {},
   "outputs": [],
   "source": [
    "# calculate confidence intervals and mean estimators\n",
    "df_reactions <- cbind.data.frame(aggregate(.~x+group, df_of_reactions,mean),aggregate(.~x+group, df_of_reactions[,c(1,2,6)],function(x) confidence_interval(x, 0.95))$predicted)"
   ]
  },
  {
   "cell_type": "code",
   "execution_count": 25,
   "id": "realistic-dating",
   "metadata": {},
   "outputs": [],
   "source": [
    "# format and rename data\n",
    "df_reactions$group <- as.character(df_reactions$group)\n",
    "df_reactions$group[df_reactions$group=='baseline'] <- 'up/downvotes'\n",
    "df_reactions$group[df_reactions$group=='intervention'] <- 'only upvotes'"
   ]
  },
  {
   "cell_type": "code",
   "execution_count": 26,
   "id": "irish-grace",
   "metadata": {},
   "outputs": [
    {
     "data": {
      "text/html": [
       "<table class=\"dataframe\">\n",
       "<caption>A data.frame: 6 × 9</caption>\n",
       "<thead>\n",
       "\t<tr><th scope=col>x</th><th scope=col>group</th><th scope=col>predicted</th><th scope=col>std.error</th><th scope=col>conf.low</th><th scope=col>conf.high</th><th scope=col>group_col</th><th scope=col>lower</th><th scope=col>upper</th></tr>\n",
       "\t<tr><th scope=col>&lt;chr&gt;</th><th scope=col>&lt;chr&gt;</th><th scope=col>&lt;dbl&gt;</th><th scope=col>&lt;dbl&gt;</th><th scope=col>&lt;dbl&gt;</th><th scope=col>&lt;dbl&gt;</th><th scope=col>&lt;dbl&gt;</th><th scope=col>&lt;dbl&gt;</th><th scope=col>&lt;dbl&gt;</th></tr>\n",
       "</thead>\n",
       "<tbody>\n",
       "\t<tr><td>civic       </td><td>up/downvotes</td><td> 0.030176187</td><td>0.02223715</td><td>-0.0134078186</td><td>0.07376019</td><td>1</td><td> 0.028873061</td><td> 0.031479312</td></tr>\n",
       "\t<tr><td>deliberation</td><td>up/downvotes</td><td> 0.038653399</td><td>0.02223715</td><td>-0.0049306060</td><td>0.08223740</td><td>1</td><td> 0.036802483</td><td> 0.040504315</td></tr>\n",
       "\t<tr><td>demagoguery </td><td>up/downvotes</td><td>-0.003802823</td><td>0.02223715</td><td>-0.0473868279</td><td>0.03978118</td><td>1</td><td>-0.005137717</td><td>-0.002467929</td></tr>\n",
       "\t<tr><td>civic       </td><td>upvote_only </td><td> 0.044642092</td><td>0.02285625</td><td>-0.0001553386</td><td>0.08943952</td><td>2</td><td> 0.043027716</td><td> 0.046256468</td></tr>\n",
       "\t<tr><td>deliberation</td><td>upvote_only </td><td> 0.050538348</td><td>0.02285625</td><td> 0.0057409173</td><td>0.09533578</td><td>2</td><td> 0.048277383</td><td> 0.052799313</td></tr>\n",
       "\t<tr><td>demagoguery </td><td>upvote_only </td><td>-0.023629748</td><td>0.02285625</td><td>-0.0684271788</td><td>0.02116768</td><td>2</td><td>-0.025170778</td><td>-0.022088719</td></tr>\n",
       "</tbody>\n",
       "</table>\n"
      ],
      "text/latex": [
       "A data.frame: 6 × 9\n",
       "\\begin{tabular}{lllllllll}\n",
       " x & group & predicted & std.error & conf.low & conf.high & group\\_col & lower & upper\\\\\n",
       " <chr> & <chr> & <dbl> & <dbl> & <dbl> & <dbl> & <dbl> & <dbl> & <dbl>\\\\\n",
       "\\hline\n",
       "\t civic        & up/downvotes &  0.030176187 & 0.02223715 & -0.0134078186 & 0.07376019 & 1 &  0.028873061 &  0.031479312\\\\\n",
       "\t deliberation & up/downvotes &  0.038653399 & 0.02223715 & -0.0049306060 & 0.08223740 & 1 &  0.036802483 &  0.040504315\\\\\n",
       "\t demagoguery  & up/downvotes & -0.003802823 & 0.02223715 & -0.0473868279 & 0.03978118 & 1 & -0.005137717 & -0.002467929\\\\\n",
       "\t civic        & upvote\\_only  &  0.044642092 & 0.02285625 & -0.0001553386 & 0.08943952 & 2 &  0.043027716 &  0.046256468\\\\\n",
       "\t deliberation & upvote\\_only  &  0.050538348 & 0.02285625 &  0.0057409173 & 0.09533578 & 2 &  0.048277383 &  0.052799313\\\\\n",
       "\t demagoguery  & upvote\\_only  & -0.023629748 & 0.02285625 & -0.0684271788 & 0.02116768 & 2 & -0.025170778 & -0.022088719\\\\\n",
       "\\end{tabular}\n"
      ],
      "text/markdown": [
       "\n",
       "A data.frame: 6 × 9\n",
       "\n",
       "| x &lt;chr&gt; | group &lt;chr&gt; | predicted &lt;dbl&gt; | std.error &lt;dbl&gt; | conf.low &lt;dbl&gt; | conf.high &lt;dbl&gt; | group_col &lt;dbl&gt; | lower &lt;dbl&gt; | upper &lt;dbl&gt; |\n",
       "|---|---|---|---|---|---|---|---|---|\n",
       "| civic        | up/downvotes |  0.030176187 | 0.02223715 | -0.0134078186 | 0.07376019 | 1 |  0.028873061 |  0.031479312 |\n",
       "| deliberation | up/downvotes |  0.038653399 | 0.02223715 | -0.0049306060 | 0.08223740 | 1 |  0.036802483 |  0.040504315 |\n",
       "| demagoguery  | up/downvotes | -0.003802823 | 0.02223715 | -0.0473868279 | 0.03978118 | 1 | -0.005137717 | -0.002467929 |\n",
       "| civic        | upvote_only  |  0.044642092 | 0.02285625 | -0.0001553386 | 0.08943952 | 2 |  0.043027716 |  0.046256468 |\n",
       "| deliberation | upvote_only  |  0.050538348 | 0.02285625 |  0.0057409173 | 0.09533578 | 2 |  0.048277383 |  0.052799313 |\n",
       "| demagoguery  | upvote_only  | -0.023629748 | 0.02285625 | -0.0684271788 | 0.02116768 | 2 | -0.025170778 | -0.022088719 |\n",
       "\n"
      ],
      "text/plain": [
       "  x            group        predicted    std.error  conf.low      conf.high \n",
       "1 civic        up/downvotes  0.030176187 0.02223715 -0.0134078186 0.07376019\n",
       "2 deliberation up/downvotes  0.038653399 0.02223715 -0.0049306060 0.08223740\n",
       "3 demagoguery  up/downvotes -0.003802823 0.02223715 -0.0473868279 0.03978118\n",
       "4 civic        upvote_only   0.044642092 0.02285625 -0.0001553386 0.08943952\n",
       "5 deliberation upvote_only   0.050538348 0.02285625  0.0057409173 0.09533578\n",
       "6 demagoguery  upvote_only  -0.023629748 0.02285625 -0.0684271788 0.02116768\n",
       "  group_col lower        upper       \n",
       "1 1          0.028873061  0.031479312\n",
       "2 1          0.036802483  0.040504315\n",
       "3 1         -0.005137717 -0.002467929\n",
       "4 2          0.043027716  0.046256468\n",
       "5 2          0.048277383  0.052799313\n",
       "6 2         -0.025170778 -0.022088719"
      ]
     },
     "metadata": {},
     "output_type": "display_data"
    }
   ],
   "source": [
    "df_reactions"
   ]
  },
  {
   "cell_type": "code",
   "execution_count": 32,
   "id": "civilian-sustainability",
   "metadata": {},
   "outputs": [
    {
     "data": {
      "image/png": "[encoded data removed]",
      "text/plain": [
       "plot without title"
      ]
     },
     "metadata": {
      "image/png": {
       "height": 420,
       "width": 420
      }
     },
     "output_type": "display_data"
    }
   ],
   "source": [
    "q <- ggplot(data=df_reactions, mapping=aes(x=x, y = predicted, ymin=upper, ymax=lower, col=group,fill= group), width=0.02, size=0.1, color=\"blue\") +\n",
    "  geom_errorbar(size=1,position=position_dodge(width = 0.5), width = 0.2) + \n",
    "  scale_fill_manual(values=c(\"#99C3EC\", \"#97E3C2\")) +\n",
    "  scale_color_manual(values=c(\"#99C3EC\", \"#97E3C2\")) +\n",
    "  theme_minimal() +\n",
    "  geom_point(size=3, shape=21, colour=\"white\", stroke = 0.5,position=position_dodge(width = 0.5)) +\n",
    "  xlab(\"discourse\") + ylab(\"factor score\") + ggtitle('up/downvotes to upvotes') +  ylim(-0.15, 0.25)\n",
    " #+ theme(text=element_text(size=13)) + theme(aspect.ratio = 0.7)\n",
    "ggsave(plot = q, width = 5, height = 3, dpi = 300, filename = \"upvote.png\")\n",
    "q "
   ]
  },
  {
   "cell_type": "code",
   "execution_count": null,
   "id": "connected-homeless",
   "metadata": {},
   "outputs": [],
   "source": []
  }
 ],
 "metadata": {
  "environment": {
   "name": "r-cpu.3-6.m65",
   "type": "gcloud",
   "uri": "gcr.io/deeplearning-platform-release/r-cpu.3-6:m65"
  },
  "kernelspec": {
   "display_name": "R",
   "language": "R",
   "name": "ir"
  },
  "language_info": {
   "codemirror_mode": "r",
   "file_extension": ".r",
   "mimetype": "text/x-r-source",
   "name": "R",
   "pygments_lexer": "r",
   "version": "3.6.3"
  }
 },
 "nbformat": 4,
 "nbformat_minor": 5
}
