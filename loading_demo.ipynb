{
  "cells": [
    {
      "cell_type": "code",
      "execution_count": null,
      "metadata": {
        "id": "IcuYOqKJ307Y"
      },
      "outputs": [],
      "source": [
        "%%capture\n",
        "!pip install datasets\n",
        "!pip install simpletransformers\n",
        "import sys\n",
        "import pandas as pd\n",
        "from sklearn.model_selection import train_test_split\n",
        "from simpletransformers.classification import MultiLabelClassificationModel\n",
        "import torch\n",
        "import sklearn\n",
        "import numpy as np\n",
        "\n",
        "\n"
      ]
    },
    {
      "cell_type": "code",
      "execution_count": null,
      "metadata": {
        "colab": {
          "base_uri": "https://localhost:8080/"
        },
        "id": "23TOba33L4qf",
        "outputId": "6b46bd5b-10d0-4765-c0e3-5be4412d2178"
      },
      "outputs": [
        {
          "output_type": "stream",
          "name": "stdout",
          "text": [
            "Mon Mar 28 13:06:03 2022       \n",
            "+-----------------------------------------------------------------------------+\n",
            "| NVIDIA-SMI 460.32.03    Driver Version: 460.32.03    CUDA Version: 11.2     |\n",
            "|-------------------------------+----------------------+----------------------+\n",
            "| GPU  Name        Persistence-M| Bus-Id        Disp.A | Volatile Uncorr. ECC |\n",
            "| Fan  Temp  Perf  Pwr:Usage/Cap|         Memory-Usage | GPU-Util  Compute M. |\n",
            "|                               |                      |               MIG M. |\n",
            "|===============================+======================+======================|\n",
            "|   0  Tesla P100-PCIE...  Off  | 00000000:00:04.0 Off |                    0 |\n",
            "| N/A   40C    P0    26W / 250W |      0MiB / 16280MiB |      0%      Default |\n",
            "|                               |                      |                  N/A |\n",
            "+-------------------------------+----------------------+----------------------+\n",
            "                                                                               \n",
            "+-----------------------------------------------------------------------------+\n",
            "| Processes:                                                                  |\n",
            "|  GPU   GI   CI        PID   Type   Process name                  GPU Memory |\n",
            "|        ID   ID                                                   Usage      |\n",
            "|=============================================================================|\n",
            "|  No running processes found                                                 |\n",
            "+-----------------------------------------------------------------------------+\n"
          ]
        }
      ],
      "source": [
        "gpu_info = !nvidia-smi\n",
        "gpu_info = '\\n'.join(gpu_info)\n",
        "if gpu_info.find('failed') >= 0:\n",
        "  print('Select the Runtime > \"Change runtime type\" menu to enable a GPU accelerator, ')\n",
        "  print('and then re-execute this cell.')\n",
        "else:\n",
        "  print(gpu_info)"
      ]
    },
    {
      "cell_type": "code",
      "execution_count": null,
      "metadata": {
        "id": "nerl0vV55H2_"
      },
      "outputs": [],
      "source": [
        "model = MultiLabelClassificationModel('xlnet',\n",
        "                                      './best_model_oversampling',\n",
        "                                      num_labels=13,\n",
        "                                      use_cuda=True,\n",
        "                                      args={'train_batch_size': 6,\n",
        "                                                                                'gradient_accumulation_steps': 16,\n",
        "                                                                                'learning_rate': 3e-5,\n",
        "                                                                                'num_train_epochs': 100,\n",
        "                                                                                'max_seq_length': 100,\n",
        "                                                                                \"fp16\": False,\n",
        "                                                                                'warmup': .1,\n",
        "                                                                                \"evaluate_during_training\": True,\n",
        "                                                                                \"output_dir\": \"./classification/outputs/\",\n",
        "                                                                                'cache_dir': \"./classification/cache/\",\n",
        "                                                                                'overwrite_output_dir': True,\n",
        "                                                                                'save_optimizer_and_scheduler': True,\n",
        "                                                                                \"use_multiprocessing\": True,\n",
        "                                                                                 'eval_batch_size': 50                                          \n",
        "                                                                                })"
      ]
    }
  ],
  "metadata": {
    "accelerator": "GPU",
    "colab": {
      "machine_shape": "hm",
      "provenance": [],
      "collapsed_sections": []
    },
    "kernelspec": {
      "display_name": "Python 3",
      "name": "python3"
    }
  },
  "nbformat": 4,
  "nbformat_minor": 0
}
