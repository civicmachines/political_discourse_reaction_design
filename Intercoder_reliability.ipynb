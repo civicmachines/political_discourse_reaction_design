{
  "nbformat": 4,
  "nbformat_minor": 0,
  "metadata": {
    "colab": {
      "provenance": [],
      "collapsed_sections": []
    },
    "kernelspec": {
      "name": "python3",
      "display_name": "Python 3"
    }
  },
  "cells": [
    {
      "cell_type": "code",
      "metadata": {
        "id": "nE_sudh3555w"
      },
      "source": [
        "import pandas as pd"
      ],
      "execution_count": null,
      "outputs": []
    },
    {
      "cell_type": "code",
      "metadata": {
        "id": "CZtMtz325-SJ"
      },
      "source": [
        "df_c1 = pd.read_csv(\"./labeled_comments_c1.csv\")\n",
        "df_c2 = pd.read_csv(\"./labeled_commentes_c2.csv\")"
      ],
      "execution_count": null,
      "outputs": []
    },
    {
      "cell_type": "code",
      "metadata": {
        "id": "qjwICNdB6dS_"
      },
      "source": [
        "c1_matrix = df_c1[['you_in_the_epicenter','weVSthem','generalised_call_for_action',\n",
        "                 'situational_call_for_action','generalized_need_policy_argumentation',\n",
        "                 'who_instead_of_what','Fact_related_argument','structured_argument',\n",
        "                 'counter_argument_structure','empathy_reciprocity','emotional_language'\n",
        "                 ,'collective_rhetoric','other','ungrounded_argument']].astype('int32').values.tolist()[:100]\n",
        "\n"
      ],
      "execution_count": null,
      "outputs": []
    },
    {
      "cell_type": "code",
      "metadata": {
        "id": "zBPZDNa76hd8"
      },
      "source": [
        "c2_matrix = df_c2[['you_in_the_epicenter','weVSthem','generalised_call_for_action',\n",
        "                 'situational_call_for_action','generalized_need_policy_argumentation',\n",
        "                 'who_instead_of_what','Fact_related_argument','structured_argument',\n",
        "                 'counter_argument_structure','empathy_reciprocity','emotional_language'\n",
        "                 ,'collective_rhetoric','other','ungrounded_argument']][:100].astype('int32').values.tolist()"
      ],
      "execution_count": null,
      "outputs": []
    },
    {
      "cell_type": "code",
      "metadata": {
        "id": "4TMzqprIIAR3"
      },
      "source": [
        "c1_matrix = [[i for i, e in enumerate(row)  if e != 0] for row in c1_matrix ]\n",
        "c2_matrix = [[i for i, e in enumerate(row)  if e != 0] for row in c2_matrix ]\n"
      ],
      "execution_count": null,
      "outputs": []
    },
    {
      "cell_type": "code",
      "metadata": {
        "id": "7vYh4d1HE0EZ"
      },
      "source": [
        "c1_tup = [(\"c1\", i, frozenset(l)) for i,l in enumerate(c1_matrix)]\n",
        "c2_tup = [(\"c2\", i, frozenset(l)) for i,l in enumerate(c2_matrix)]\n",
        "tup = c1_tup + c2_tup"
      ],
      "execution_count": null,
      "outputs": []
    },
    {
      "cell_type": "code",
      "metadata": {
        "id": "4IXsVinDEVbv"
      },
      "source": [
        "#!pip install --upgrade nltk\n",
        "import nltk\n",
        "from nltk.metrics import agreement\n",
        "from nltk.metrics.agreement import AnnotationTask\n",
        "from nltk.metrics.distance import masi_distance\n",
        "from nltk.metrics.distance import jaccard_distance"
      ],
      "execution_count": null,
      "outputs": []
    },
    {
      "cell_type": "code",
      "metadata": {
        "colab": {
          "base_uri": "https://localhost:8080/"
        },
        "id": "eOrFUEGP61oC",
        "outputId": "4bb04031-82c1-45dd-86fa-48441f860313"
      },
      "source": [
        "#task_data = [('coder1','Item0',frozenset(['l1','l2'])),\n",
        "#('coder2','Item0',frozenset(['l1'])),\n",
        "#('coder1','Item1',frozenset(['l1','l2'])),\n",
        "#('coder2','Item1',frozenset(['l1','l2'])),\n",
        "#('coder1','Item2',frozenset(['l1'])),\n",
        "#('coder2','Item2',frozenset(['l1']))]\n",
        "\n",
        "task = AnnotationTask(distance = jaccard_distance)\n",
        "\n",
        "task.load_array(tup)\n",
        "\n",
        "task.alpha()\n"
      ],
      "execution_count": null,
      "outputs": [
        {
          "output_type": "execute_result",
          "data": {
            "text/plain": [
              "0.753752231438864"
            ]
          },
          "metadata": {
            "tags": []
          },
          "execution_count": 25
        }
      ]
    },
    {
      "cell_type": "code",
      "metadata": {
        "colab": {
          "base_uri": "https://localhost:8080/"
        },
        "id": "ZeytOApFGjJ4",
        "outputId": "148ad6da-8fac-465b-c800-4b5cb34f2075"
      },
      "source": [
        "task.S()"
      ],
      "execution_count": null,
      "outputs": [
        {
          "output_type": "execute_result",
          "data": {
            "text/plain": [
              "0.7954"
            ]
          },
          "metadata": {
            "tags": []
          },
          "execution_count": 26
        }
      ]
    },
    {
      "cell_type": "code",
      "metadata": {
        "id": "83qGIjagHaR0"
      },
      "source": [],
      "execution_count": null,
      "outputs": []
    }
  ]
}
