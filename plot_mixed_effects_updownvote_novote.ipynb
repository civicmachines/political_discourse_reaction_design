{
 "cells": [
  {
   "cell_type": "code",
   "execution_count": 11,
   "id": "spiritual-hormone",
   "metadata": {},
   "outputs": [
    {
     "name": "stderr",
     "output_type": "stream",
     "text": [
      "\n",
      "Attaching package: ‘dplyr’\n",
      "\n",
      "\n",
      "The following objects are masked from ‘package:stats’:\n",
      "\n",
      "    filter, lag\n",
      "\n",
      "\n",
      "The following objects are masked from ‘package:base’:\n",
      "\n",
      "    intersect, setdiff, setequal, union\n",
      "\n",
      "\n"
     ]
    }
   ],
   "source": [
    "# load libraries\n",
    "library(ggplot2)\n",
    "library(dplyr)"
   ]
  },
  {
   "cell_type": "code",
   "execution_count": 1,
   "id": "wired-alexander",
   "metadata": {},
   "outputs": [],
   "source": [
    "# function to create the standard errors for the subset model estimates\n",
    "confidence_interval <- function(vector, interval) {\n",
    "  # Standard deviation of sample\n",
    "  vec_sd <- sd(vector)\n",
    "  # Sample size\n",
    "  n <- length(vector)\n",
    "  # Mean of sample\n",
    "  vec_mean <- mean(vector)\n",
    "  # Error according to t distribution\n",
    "  error <- qt((interval + 1)/2, df = n - 1) * vec_sd / sqrt(n)\n",
    "  # Confidence interval as a vector\n",
    "  result <- c(\"lower\" = vec_mean - error, \"upper\" = vec_mean + error)\n",
    "  return(result)\n",
    "}"
   ]
  },
  {
   "cell_type": "code",
   "execution_count": 3,
   "id": "threatened-kitty",
   "metadata": {},
   "outputs": [],
   "source": [
    "# get RDS fils containing a list for the each ME model output. Reactions: outputs for the estimators\n",
    "list_of_reactions <- readRDS(\"./baseline_novote_all/list_of_reactions.RDS\")\n"
   ]
  },
  {
   "cell_type": "code",
   "execution_count": 4,
   "id": "centered-nomination",
   "metadata": {},
   "outputs": [
    {
     "data": {
      "text/html": [
       "<table class=\"dataframe\">\n",
       "<caption>A data.frame: 6 × 7</caption>\n",
       "<thead>\n",
       "\t<tr><th></th><th scope=col>x</th><th scope=col>predicted</th><th scope=col>std.error</th><th scope=col>conf.low</th><th scope=col>conf.high</th><th scope=col>group</th><th scope=col>group_col</th></tr>\n",
       "\t<tr><th></th><th scope=col>&lt;chr&gt;</th><th scope=col>&lt;dbl&gt;</th><th scope=col>&lt;dbl&gt;</th><th scope=col>&lt;dbl&gt;</th><th scope=col>&lt;dbl&gt;</th><th scope=col>&lt;fct&gt;</th><th scope=col>&lt;fct&gt;</th></tr>\n",
       "</thead>\n",
       "<tbody>\n",
       "\t<tr><th scope=row>1</th><td>deliberation</td><td> 0.13859203</td><td>0.06498196</td><td> 0.01122973</td><td>0.26595433</td><td>baseline</td><td>baseline</td></tr>\n",
       "\t<tr><th scope=row>2</th><td>deliberation</td><td> 0.11246971</td><td>0.06695728</td><td>-0.01876416</td><td>0.24370358</td><td>no_votes</td><td>no_votes</td></tr>\n",
       "\t<tr><th scope=row>3</th><td>demagoguery </td><td>-0.08127970</td><td>0.06498196</td><td>-0.20864200</td><td>0.04608260</td><td>baseline</td><td>baseline</td></tr>\n",
       "\t<tr><th scope=row>4</th><td>demagoguery </td><td>-0.07396468</td><td>0.06695728</td><td>-0.20519855</td><td>0.05726919</td><td>no_votes</td><td>no_votes</td></tr>\n",
       "\t<tr><th scope=row>5</th><td>civic       </td><td> 0.06838787</td><td>0.06498196</td><td>-0.05897443</td><td>0.19575017</td><td>baseline</td><td>baseline</td></tr>\n",
       "\t<tr><th scope=row>6</th><td>civic       </td><td> 0.05564768</td><td>0.06695728</td><td>-0.07558619</td><td>0.18688155</td><td>no_votes</td><td>no_votes</td></tr>\n",
       "</tbody>\n",
       "</table>\n"
      ],
      "text/latex": [
       "A data.frame: 6 × 7\n",
       "\\begin{tabular}{r|lllllll}\n",
       "  & x & predicted & std.error & conf.low & conf.high & group & group\\_col\\\\\n",
       "  & <chr> & <dbl> & <dbl> & <dbl> & <dbl> & <fct> & <fct>\\\\\n",
       "\\hline\n",
       "\t1 & deliberation &  0.13859203 & 0.06498196 &  0.01122973 & 0.26595433 & baseline & baseline\\\\\n",
       "\t2 & deliberation &  0.11246971 & 0.06695728 & -0.01876416 & 0.24370358 & no\\_votes & no\\_votes\\\\\n",
       "\t3 & demagoguery  & -0.08127970 & 0.06498196 & -0.20864200 & 0.04608260 & baseline & baseline\\\\\n",
       "\t4 & demagoguery  & -0.07396468 & 0.06695728 & -0.20519855 & 0.05726919 & no\\_votes & no\\_votes\\\\\n",
       "\t5 & civic        &  0.06838787 & 0.06498196 & -0.05897443 & 0.19575017 & baseline & baseline\\\\\n",
       "\t6 & civic        &  0.05564768 & 0.06695728 & -0.07558619 & 0.18688155 & no\\_votes & no\\_votes\\\\\n",
       "\\end{tabular}\n"
      ],
      "text/markdown": [
       "\n",
       "A data.frame: 6 × 7\n",
       "\n",
       "| <!--/--> | x &lt;chr&gt; | predicted &lt;dbl&gt; | std.error &lt;dbl&gt; | conf.low &lt;dbl&gt; | conf.high &lt;dbl&gt; | group &lt;fct&gt; | group_col &lt;fct&gt; |\n",
       "|---|---|---|---|---|---|---|---|\n",
       "| 1 | deliberation |  0.13859203 | 0.06498196 |  0.01122973 | 0.26595433 | baseline | baseline |\n",
       "| 2 | deliberation |  0.11246971 | 0.06695728 | -0.01876416 | 0.24370358 | no_votes | no_votes |\n",
       "| 3 | demagoguery  | -0.08127970 | 0.06498196 | -0.20864200 | 0.04608260 | baseline | baseline |\n",
       "| 4 | demagoguery  | -0.07396468 | 0.06695728 | -0.20519855 | 0.05726919 | no_votes | no_votes |\n",
       "| 5 | civic        |  0.06838787 | 0.06498196 | -0.05897443 | 0.19575017 | baseline | baseline |\n",
       "| 6 | civic        |  0.05564768 | 0.06695728 | -0.07558619 | 0.18688155 | no_votes | no_votes |\n",
       "\n"
      ],
      "text/plain": [
       "  x            predicted   std.error  conf.low    conf.high  group    group_col\n",
       "1 deliberation  0.13859203 0.06498196  0.01122973 0.26595433 baseline baseline \n",
       "2 deliberation  0.11246971 0.06695728 -0.01876416 0.24370358 no_votes no_votes \n",
       "3 demagoguery  -0.08127970 0.06498196 -0.20864200 0.04608260 baseline baseline \n",
       "4 demagoguery  -0.07396468 0.06695728 -0.20519855 0.05726919 no_votes no_votes \n",
       "5 civic         0.06838787 0.06498196 -0.05897443 0.19575017 baseline baseline \n",
       "6 civic         0.05564768 0.06695728 -0.07558619 0.18688155 no_votes no_votes "
      ]
     },
     "metadata": {},
     "output_type": "display_data"
    }
   ],
   "source": [
    "# aggregate data\n",
    "df_of_reactions <- as.data.frame(do.call(rbind, list_of_reactions))\n",
    "head(df_of_reactions)"
   ]
  },
  {
   "cell_type": "code",
   "execution_count": 5,
   "id": "mexican-engine",
   "metadata": {},
   "outputs": [],
   "source": [
    "# calculate confidence intervals and mean estimators\n",
    "df_reactions <- cbind.data.frame(aggregate(.~x+group, df_of_reactions,mean),aggregate(.~x+group, df_of_reactions[,c(1,2,6)],function(x) confidence_interval(x, 0.95))$predicted)"
   ]
  },
  {
   "cell_type": "code",
   "execution_count": 6,
   "id": "bored-hometown",
   "metadata": {},
   "outputs": [],
   "source": [
    "# format and rename data\n",
    "df_reactions$group <- as.character(df_reactions$group)\n",
    "df_reactions$group[df_reactions$group=='upvote_only'] <- 'only upvotes'\n",
    "df_reactions$group[df_reactions$group=='no_votes'] <- 'no votes'\n",
    "df_reactions$group[df_reactions$group=='baseline'] <- 'up/downvotes'"
   ]
  },
  {
   "cell_type": "code",
   "execution_count": 7,
   "id": "julian-exploration",
   "metadata": {},
   "outputs": [
    {
     "data": {
      "text/html": [
       "<table class=\"dataframe\">\n",
       "<caption>A data.frame: 6 × 9</caption>\n",
       "<thead>\n",
       "\t<tr><th scope=col>x</th><th scope=col>group</th><th scope=col>predicted</th><th scope=col>std.error</th><th scope=col>conf.low</th><th scope=col>conf.high</th><th scope=col>group_col</th><th scope=col>lower</th><th scope=col>upper</th></tr>\n",
       "\t<tr><th scope=col>&lt;chr&gt;</th><th scope=col>&lt;chr&gt;</th><th scope=col>&lt;dbl&gt;</th><th scope=col>&lt;dbl&gt;</th><th scope=col>&lt;dbl&gt;</th><th scope=col>&lt;dbl&gt;</th><th scope=col>&lt;dbl&gt;</th><th scope=col>&lt;dbl&gt;</th><th scope=col>&lt;dbl&gt;</th></tr>\n",
       "</thead>\n",
       "<tbody>\n",
       "\t<tr><td>civic       </td><td>up/downvotes</td><td> 0.06832178</td><td>0.06677906</td><td>-0.062562787</td><td>0.19920634</td><td>1</td><td> 0.06133132</td><td> 0.07531223</td></tr>\n",
       "\t<tr><td>deliberation</td><td>up/downvotes</td><td> 0.13982975</td><td>0.06677906</td><td> 0.008945184</td><td>0.27071431</td><td>1</td><td> 0.12727523</td><td> 0.15238426</td></tr>\n",
       "\t<tr><td>demagoguery </td><td>up/downvotes</td><td>-0.05962161</td><td>0.06677906</td><td>-0.190506176</td><td>0.07126295</td><td>1</td><td>-0.06593625</td><td>-0.05330698</td></tr>\n",
       "\t<tr><td>civic       </td><td>no votes    </td><td> 0.04937565</td><td>0.06871755</td><td>-0.085308267</td><td>0.18405957</td><td>2</td><td> 0.04165828</td><td> 0.05709303</td></tr>\n",
       "\t<tr><td>deliberation</td><td>no votes    </td><td> 0.10424134</td><td>0.06871755</td><td>-0.030442576</td><td>0.23892526</td><td>2</td><td> 0.09077334</td><td> 0.11770935</td></tr>\n",
       "\t<tr><td>demagoguery </td><td>no votes    </td><td>-0.04636325</td><td>0.06871755</td><td>-0.181047171</td><td>0.08832067</td><td>2</td><td>-0.05326927</td><td>-0.03945724</td></tr>\n",
       "</tbody>\n",
       "</table>\n"
      ],
      "text/latex": [
       "A data.frame: 6 × 9\n",
       "\\begin{tabular}{lllllllll}\n",
       " x & group & predicted & std.error & conf.low & conf.high & group\\_col & lower & upper\\\\\n",
       " <chr> & <chr> & <dbl> & <dbl> & <dbl> & <dbl> & <dbl> & <dbl> & <dbl>\\\\\n",
       "\\hline\n",
       "\t civic        & up/downvotes &  0.06832178 & 0.06677906 & -0.062562787 & 0.19920634 & 1 &  0.06133132 &  0.07531223\\\\\n",
       "\t deliberation & up/downvotes &  0.13982975 & 0.06677906 &  0.008945184 & 0.27071431 & 1 &  0.12727523 &  0.15238426\\\\\n",
       "\t demagoguery  & up/downvotes & -0.05962161 & 0.06677906 & -0.190506176 & 0.07126295 & 1 & -0.06593625 & -0.05330698\\\\\n",
       "\t civic        & no votes     &  0.04937565 & 0.06871755 & -0.085308267 & 0.18405957 & 2 &  0.04165828 &  0.05709303\\\\\n",
       "\t deliberation & no votes     &  0.10424134 & 0.06871755 & -0.030442576 & 0.23892526 & 2 &  0.09077334 &  0.11770935\\\\\n",
       "\t demagoguery  & no votes     & -0.04636325 & 0.06871755 & -0.181047171 & 0.08832067 & 2 & -0.05326927 & -0.03945724\\\\\n",
       "\\end{tabular}\n"
      ],
      "text/markdown": [
       "\n",
       "A data.frame: 6 × 9\n",
       "\n",
       "| x &lt;chr&gt; | group &lt;chr&gt; | predicted &lt;dbl&gt; | std.error &lt;dbl&gt; | conf.low &lt;dbl&gt; | conf.high &lt;dbl&gt; | group_col &lt;dbl&gt; | lower &lt;dbl&gt; | upper &lt;dbl&gt; |\n",
       "|---|---|---|---|---|---|---|---|---|\n",
       "| civic        | up/downvotes |  0.06832178 | 0.06677906 | -0.062562787 | 0.19920634 | 1 |  0.06133132 |  0.07531223 |\n",
       "| deliberation | up/downvotes |  0.13982975 | 0.06677906 |  0.008945184 | 0.27071431 | 1 |  0.12727523 |  0.15238426 |\n",
       "| demagoguery  | up/downvotes | -0.05962161 | 0.06677906 | -0.190506176 | 0.07126295 | 1 | -0.06593625 | -0.05330698 |\n",
       "| civic        | no votes     |  0.04937565 | 0.06871755 | -0.085308267 | 0.18405957 | 2 |  0.04165828 |  0.05709303 |\n",
       "| deliberation | no votes     |  0.10424134 | 0.06871755 | -0.030442576 | 0.23892526 | 2 |  0.09077334 |  0.11770935 |\n",
       "| demagoguery  | no votes     | -0.04636325 | 0.06871755 | -0.181047171 | 0.08832067 | 2 | -0.05326927 | -0.03945724 |\n",
       "\n"
      ],
      "text/plain": [
       "  x            group        predicted   std.error  conf.low     conf.high \n",
       "1 civic        up/downvotes  0.06832178 0.06677906 -0.062562787 0.19920634\n",
       "2 deliberation up/downvotes  0.13982975 0.06677906  0.008945184 0.27071431\n",
       "3 demagoguery  up/downvotes -0.05962161 0.06677906 -0.190506176 0.07126295\n",
       "4 civic        no votes      0.04937565 0.06871755 -0.085308267 0.18405957\n",
       "5 deliberation no votes      0.10424134 0.06871755 -0.030442576 0.23892526\n",
       "6 demagoguery  no votes     -0.04636325 0.06871755 -0.181047171 0.08832067\n",
       "  group_col lower       upper      \n",
       "1 1          0.06133132  0.07531223\n",
       "2 1          0.12727523  0.15238426\n",
       "3 1         -0.06593625 -0.05330698\n",
       "4 2          0.04165828  0.05709303\n",
       "5 2          0.09077334  0.11770935\n",
       "6 2         -0.05326927 -0.03945724"
      ]
     },
     "metadata": {},
     "output_type": "display_data"
    }
   ],
   "source": [
    "df_reactions"
   ]
  },
  {
   "cell_type": "code",
   "execution_count": 12,
   "id": "embedded-stable",
   "metadata": {},
   "outputs": [
    {
     "data": {
      "image/png": "[encoded data removed]",
      "text/plain": [
       "plot without title"
      ]
     },
     "metadata": {
      "image/png": {
       "height": 420,
       "width": 420
      }
     },
     "output_type": "display_data"
    }
   ],
   "source": [
    "# generate plot\n",
    "q <- ggplot(data=df_reactions, mapping=aes(x=x, y = predicted, ymin=upper, ymax=lower, col=group,fill=group, group = desc(group)), width=0.02, size=0.1, color=\"#97E3C2\") +\n",
    "  geom_errorbar(size=1,position=position_dodge(width = 0.5), width = 0.2) + \n",
    "  scale_fill_manual(values=c( \"#f69c9e\", \"#97E3C2\")) +\n",
    "  scale_color_manual(values=c( \"#f69c9e\",\"#97E3C2\")) +\n",
    "  theme_minimal() +\n",
    "  geom_point(size=3, shape=21, colour=\"white\", stroke = 0.5,position=position_dodge(width = 0.5)) +\n",
    "  xlab(\"discourse\") + ylab(\"factor score\") + ggtitle('up/downvotes to no votes') +   ylim(-0.15, 0.25)\n",
    " #+ theme(text=element_text(size=13)) + theme(aspect.ratio = 0.7)\n",
    "ggsave(plot = q, width = 5, height = 3, dpi = 300, filename = \"baseline_novote.png\") \n",
    "q"
   ]
  },
  {
   "cell_type": "code",
   "execution_count": null,
   "id": "loose-playlist",
   "metadata": {},
   "outputs": [],
   "source": []
  }
 ],
 "metadata": {
  "environment": {
   "name": "r-cpu.3-6.m65",
   "type": "gcloud",
   "uri": "gcr.io/deeplearning-platform-release/r-cpu.3-6:m65"
  },
  "kernelspec": {
   "display_name": "R",
   "language": "R",
   "name": "ir"
  },
  "language_info": {
   "codemirror_mode": "r",
   "file_extension": ".r",
   "mimetype": "text/x-r-source",
   "name": "R",
   "pygments_lexer": "r",
   "version": "3.6.3"
  }
 },
 "nbformat": 4,
 "nbformat_minor": 5
}
