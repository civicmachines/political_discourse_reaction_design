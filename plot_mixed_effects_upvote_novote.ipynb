{
 "cells": [
  {
   "cell_type": "code",
   "execution_count": 2,
   "id": "active-constraint",
   "metadata": {},
   "outputs": [
    {
     "name": "stderr",
     "output_type": "stream",
     "text": [
      "\n",
      "Attaching package: ‘dplyr’\n",
      "\n",
      "\n",
      "The following objects are masked from ‘package:stats’:\n",
      "\n",
      "    filter, lag\n",
      "\n",
      "\n",
      "The following objects are masked from ‘package:base’:\n",
      "\n",
      "    intersect, setdiff, setequal, union\n",
      "\n",
      "\n"
     ]
    }
   ],
   "source": [
    "# load libraries\n",
    "library(ggplot2)\n",
    "library(dplyr)"
   ]
  },
  {
   "cell_type": "code",
   "execution_count": 3,
   "id": "studied-skirt",
   "metadata": {},
   "outputs": [],
   "source": [
    "# function to create the standard errors for the subset model estimates\n",
    "confidence_interval <- function(vector, interval) {\n",
    "  # Standard deviation of sample\n",
    "  vec_sd <- sd(vector)\n",
    "  # Sample size\n",
    "  n <- length(vector)\n",
    "  # Mean of sample\n",
    "  vec_mean <- mean(vector)\n",
    "  # Error according to t distribution\n",
    "  error <- qt((interval + 1)/2, df = n - 1) * vec_sd / sqrt(n)\n",
    "  # Confidence interval as a vector\n",
    "  result <- c(\"lower\" = vec_mean - error, \"upper\" = vec_mean + error)\n",
    "  return(result)\n",
    "}"
   ]
  },
  {
   "cell_type": "code",
   "execution_count": 4,
   "id": "macro-prime",
   "metadata": {},
   "outputs": [],
   "source": [
    "# get RDS fils containing a list for the each ME model output. Reactions: outputs for the estimators\n",
    "list_of_reactions <- readRDS(\"./upvote_novote_all/list_of_reactions.RDS\")"
   ]
  },
  {
   "cell_type": "code",
   "execution_count": 5,
   "id": "packed-airfare",
   "metadata": {},
   "outputs": [
    {
     "data": {
      "text/html": [
       "<table class=\"dataframe\">\n",
       "<caption>A data.frame: 6 × 7</caption>\n",
       "<thead>\n",
       "\t<tr><th></th><th scope=col>x</th><th scope=col>predicted</th><th scope=col>std.error</th><th scope=col>conf.low</th><th scope=col>conf.high</th><th scope=col>group</th><th scope=col>group_col</th></tr>\n",
       "\t<tr><th></th><th scope=col>&lt;chr&gt;</th><th scope=col>&lt;dbl&gt;</th><th scope=col>&lt;dbl&gt;</th><th scope=col>&lt;dbl&gt;</th><th scope=col>&lt;dbl&gt;</th><th scope=col>&lt;fct&gt;</th><th scope=col>&lt;fct&gt;</th></tr>\n",
       "</thead>\n",
       "<tbody>\n",
       "\t<tr><th scope=row>1</th><td>deliberation</td><td> 0.097867900</td><td>0.08876836</td><td>-0.07611489</td><td>0.2718507</td><td>upvote_only</td><td>upvote_only</td></tr>\n",
       "\t<tr><th scope=row>2</th><td>deliberation</td><td>-0.016935107</td><td>0.08919261</td><td>-0.19174941</td><td>0.1578792</td><td>no_votes   </td><td>no_votes   </td></tr>\n",
       "\t<tr><th scope=row>3</th><td>demagoguery </td><td>-0.065829122</td><td>0.08876836</td><td>-0.23981191</td><td>0.1081537</td><td>upvote_only</td><td>upvote_only</td></tr>\n",
       "\t<tr><th scope=row>4</th><td>demagoguery </td><td> 0.002897548</td><td>0.08919261</td><td>-0.17191675</td><td>0.1777118</td><td>no_votes   </td><td>no_votes   </td></tr>\n",
       "\t<tr><th scope=row>5</th><td>civic       </td><td> 0.020113859</td><td>0.08876836</td><td>-0.15386893</td><td>0.1940966</td><td>upvote_only</td><td>upvote_only</td></tr>\n",
       "\t<tr><th scope=row>6</th><td>civic       </td><td>-0.058850178</td><td>0.08919261</td><td>-0.23366448</td><td>0.1159641</td><td>no_votes   </td><td>no_votes   </td></tr>\n",
       "</tbody>\n",
       "</table>\n"
      ],
      "text/latex": [
       "A data.frame: 6 × 7\n",
       "\\begin{tabular}{r|lllllll}\n",
       "  & x & predicted & std.error & conf.low & conf.high & group & group\\_col\\\\\n",
       "  & <chr> & <dbl> & <dbl> & <dbl> & <dbl> & <fct> & <fct>\\\\\n",
       "\\hline\n",
       "\t1 & deliberation &  0.097867900 & 0.08876836 & -0.07611489 & 0.2718507 & upvote\\_only & upvote\\_only\\\\\n",
       "\t2 & deliberation & -0.016935107 & 0.08919261 & -0.19174941 & 0.1578792 & no\\_votes    & no\\_votes   \\\\\n",
       "\t3 & demagoguery  & -0.065829122 & 0.08876836 & -0.23981191 & 0.1081537 & upvote\\_only & upvote\\_only\\\\\n",
       "\t4 & demagoguery  &  0.002897548 & 0.08919261 & -0.17191675 & 0.1777118 & no\\_votes    & no\\_votes   \\\\\n",
       "\t5 & civic        &  0.020113859 & 0.08876836 & -0.15386893 & 0.1940966 & upvote\\_only & upvote\\_only\\\\\n",
       "\t6 & civic        & -0.058850178 & 0.08919261 & -0.23366448 & 0.1159641 & no\\_votes    & no\\_votes   \\\\\n",
       "\\end{tabular}\n"
      ],
      "text/markdown": [
       "\n",
       "A data.frame: 6 × 7\n",
       "\n",
       "| <!--/--> | x &lt;chr&gt; | predicted &lt;dbl&gt; | std.error &lt;dbl&gt; | conf.low &lt;dbl&gt; | conf.high &lt;dbl&gt; | group &lt;fct&gt; | group_col &lt;fct&gt; |\n",
       "|---|---|---|---|---|---|---|---|\n",
       "| 1 | deliberation |  0.097867900 | 0.08876836 | -0.07611489 | 0.2718507 | upvote_only | upvote_only |\n",
       "| 2 | deliberation | -0.016935107 | 0.08919261 | -0.19174941 | 0.1578792 | no_votes    | no_votes    |\n",
       "| 3 | demagoguery  | -0.065829122 | 0.08876836 | -0.23981191 | 0.1081537 | upvote_only | upvote_only |\n",
       "| 4 | demagoguery  |  0.002897548 | 0.08919261 | -0.17191675 | 0.1777118 | no_votes    | no_votes    |\n",
       "| 5 | civic        |  0.020113859 | 0.08876836 | -0.15386893 | 0.1940966 | upvote_only | upvote_only |\n",
       "| 6 | civic        | -0.058850178 | 0.08919261 | -0.23366448 | 0.1159641 | no_votes    | no_votes    |\n",
       "\n"
      ],
      "text/plain": [
       "  x            predicted    std.error  conf.low    conf.high group      \n",
       "1 deliberation  0.097867900 0.08876836 -0.07611489 0.2718507 upvote_only\n",
       "2 deliberation -0.016935107 0.08919261 -0.19174941 0.1578792 no_votes   \n",
       "3 demagoguery  -0.065829122 0.08876836 -0.23981191 0.1081537 upvote_only\n",
       "4 demagoguery   0.002897548 0.08919261 -0.17191675 0.1777118 no_votes   \n",
       "5 civic         0.020113859 0.08876836 -0.15386893 0.1940966 upvote_only\n",
       "6 civic        -0.058850178 0.08919261 -0.23366448 0.1159641 no_votes   \n",
       "  group_col  \n",
       "1 upvote_only\n",
       "2 no_votes   \n",
       "3 upvote_only\n",
       "4 no_votes   \n",
       "5 upvote_only\n",
       "6 no_votes   "
      ]
     },
     "metadata": {},
     "output_type": "display_data"
    }
   ],
   "source": [
    "# aggregate data\n",
    "df_of_reactions <- as.data.frame(do.call(rbind, list_of_reactions))\n",
    "head(df_of_reactions)"
   ]
  },
  {
   "cell_type": "code",
   "execution_count": 6,
   "id": "owned-burden",
   "metadata": {},
   "outputs": [],
   "source": [
    "# calculate confidence intervals and mean estimators\n",
    "df_reactions <- cbind.data.frame(aggregate(.~x+group, df_of_reactions,mean),aggregate(.~x+group, df_of_reactions,function(x) confidence_interval(x, 0.95))$predicted)"
   ]
  },
  {
   "cell_type": "code",
   "execution_count": 7,
   "id": "received-clause",
   "metadata": {},
   "outputs": [],
   "source": [
    "# format and rename data\n",
    "df_reactions$group <- as.character(df_reactions$group)\n",
    "df_reactions$group[df_reactions$group=='upvote_only'] <- 'only upvotes'\n",
    "df_reactions$group[df_reactions$group=='no_votes'] <- 'no votes'"
   ]
  },
  {
   "cell_type": "code",
   "execution_count": 8,
   "id": "retired-plant",
   "metadata": {},
   "outputs": [
    {
     "data": {
      "text/html": [
       "<table class=\"dataframe\">\n",
       "<caption>A data.frame: 6 × 9</caption>\n",
       "<thead>\n",
       "\t<tr><th scope=col>x</th><th scope=col>group</th><th scope=col>predicted</th><th scope=col>std.error</th><th scope=col>conf.low</th><th scope=col>conf.high</th><th scope=col>group_col</th><th scope=col>lower</th><th scope=col>upper</th></tr>\n",
       "\t<tr><th scope=col>&lt;chr&gt;</th><th scope=col>&lt;chr&gt;</th><th scope=col>&lt;dbl&gt;</th><th scope=col>&lt;dbl&gt;</th><th scope=col>&lt;dbl&gt;</th><th scope=col>&lt;dbl&gt;</th><th scope=col>&lt;dbl&gt;</th><th scope=col>&lt;dbl&gt;</th><th scope=col>&lt;dbl&gt;</th></tr>\n",
       "</thead>\n",
       "<tbody>\n",
       "\t<tr><td>civic       </td><td>only upvotes</td><td> 0.093073694</td><td>0.08559006</td><td>-0.07467975</td><td>0.26082713</td><td>1</td><td> 0.082078882</td><td> 0.10406851</td></tr>\n",
       "\t<tr><td>deliberation</td><td>only upvotes</td><td> 0.194260594</td><td>0.08559006</td><td> 0.02650715</td><td>0.36201403</td><td>1</td><td> 0.173642820</td><td> 0.21487837</td></tr>\n",
       "\t<tr><td>demagoguery </td><td>only upvotes</td><td>-0.101130460</td><td>0.08559006</td><td>-0.26888390</td><td>0.06662298</td><td>1</td><td>-0.111930748</td><td>-0.09033017</td></tr>\n",
       "\t<tr><td>civic       </td><td>no votes    </td><td> 0.004711309</td><td>0.08604448</td><td>-0.16393277</td><td>0.17335539</td><td>2</td><td>-0.006468274</td><td> 0.01589089</td></tr>\n",
       "\t<tr><td>deliberation</td><td>no votes    </td><td> 0.068021922</td><td>0.08604448</td><td>-0.10062216</td><td>0.23666600</td><td>2</td><td> 0.047177333</td><td> 0.08886651</td></tr>\n",
       "\t<tr><td>demagoguery </td><td>no votes    </td><td>-0.047339984</td><td>0.08604448</td><td>-0.21598406</td><td>0.12130410</td><td>2</td><td>-0.058611236</td><td>-0.03606873</td></tr>\n",
       "</tbody>\n",
       "</table>\n"
      ],
      "text/latex": [
       "A data.frame: 6 × 9\n",
       "\\begin{tabular}{lllllllll}\n",
       " x & group & predicted & std.error & conf.low & conf.high & group\\_col & lower & upper\\\\\n",
       " <chr> & <chr> & <dbl> & <dbl> & <dbl> & <dbl> & <dbl> & <dbl> & <dbl>\\\\\n",
       "\\hline\n",
       "\t civic        & only upvotes &  0.093073694 & 0.08559006 & -0.07467975 & 0.26082713 & 1 &  0.082078882 &  0.10406851\\\\\n",
       "\t deliberation & only upvotes &  0.194260594 & 0.08559006 &  0.02650715 & 0.36201403 & 1 &  0.173642820 &  0.21487837\\\\\n",
       "\t demagoguery  & only upvotes & -0.101130460 & 0.08559006 & -0.26888390 & 0.06662298 & 1 & -0.111930748 & -0.09033017\\\\\n",
       "\t civic        & no votes     &  0.004711309 & 0.08604448 & -0.16393277 & 0.17335539 & 2 & -0.006468274 &  0.01589089\\\\\n",
       "\t deliberation & no votes     &  0.068021922 & 0.08604448 & -0.10062216 & 0.23666600 & 2 &  0.047177333 &  0.08886651\\\\\n",
       "\t demagoguery  & no votes     & -0.047339984 & 0.08604448 & -0.21598406 & 0.12130410 & 2 & -0.058611236 & -0.03606873\\\\\n",
       "\\end{tabular}\n"
      ],
      "text/markdown": [
       "\n",
       "A data.frame: 6 × 9\n",
       "\n",
       "| x &lt;chr&gt; | group &lt;chr&gt; | predicted &lt;dbl&gt; | std.error &lt;dbl&gt; | conf.low &lt;dbl&gt; | conf.high &lt;dbl&gt; | group_col &lt;dbl&gt; | lower &lt;dbl&gt; | upper &lt;dbl&gt; |\n",
       "|---|---|---|---|---|---|---|---|---|\n",
       "| civic        | only upvotes |  0.093073694 | 0.08559006 | -0.07467975 | 0.26082713 | 1 |  0.082078882 |  0.10406851 |\n",
       "| deliberation | only upvotes |  0.194260594 | 0.08559006 |  0.02650715 | 0.36201403 | 1 |  0.173642820 |  0.21487837 |\n",
       "| demagoguery  | only upvotes | -0.101130460 | 0.08559006 | -0.26888390 | 0.06662298 | 1 | -0.111930748 | -0.09033017 |\n",
       "| civic        | no votes     |  0.004711309 | 0.08604448 | -0.16393277 | 0.17335539 | 2 | -0.006468274 |  0.01589089 |\n",
       "| deliberation | no votes     |  0.068021922 | 0.08604448 | -0.10062216 | 0.23666600 | 2 |  0.047177333 |  0.08886651 |\n",
       "| demagoguery  | no votes     | -0.047339984 | 0.08604448 | -0.21598406 | 0.12130410 | 2 | -0.058611236 | -0.03606873 |\n",
       "\n"
      ],
      "text/plain": [
       "  x            group        predicted    std.error  conf.low    conf.high \n",
       "1 civic        only upvotes  0.093073694 0.08559006 -0.07467975 0.26082713\n",
       "2 deliberation only upvotes  0.194260594 0.08559006  0.02650715 0.36201403\n",
       "3 demagoguery  only upvotes -0.101130460 0.08559006 -0.26888390 0.06662298\n",
       "4 civic        no votes      0.004711309 0.08604448 -0.16393277 0.17335539\n",
       "5 deliberation no votes      0.068021922 0.08604448 -0.10062216 0.23666600\n",
       "6 demagoguery  no votes     -0.047339984 0.08604448 -0.21598406 0.12130410\n",
       "  group_col lower        upper      \n",
       "1 1          0.082078882  0.10406851\n",
       "2 1          0.173642820  0.21487837\n",
       "3 1         -0.111930748 -0.09033017\n",
       "4 2         -0.006468274  0.01589089\n",
       "5 2          0.047177333  0.08886651\n",
       "6 2         -0.058611236 -0.03606873"
      ]
     },
     "metadata": {},
     "output_type": "display_data"
    }
   ],
   "source": [
    "df_reactions"
   ]
  },
  {
   "cell_type": "code",
   "execution_count": 9,
   "id": "logical-ballet",
   "metadata": {},
   "outputs": [
    {
     "data": {
      "image/png": "[encoded data removed]",
      "text/plain": [
       "plot without title"
      ]
     },
     "metadata": {
      "image/png": {
       "height": 420,
       "width": 420
      }
     },
     "output_type": "display_data"
    }
   ],
   "source": [
    "q <- ggplot(data=df_reactions, mapping=aes(x=x, y = predicted, ymin=upper, ymax=lower, col=group,fill= group, group = desc(group)), width=0.02, size=0.1, color=\"blue\") +\n",
    "  geom_errorbar(size=1,position=position_dodge(width = 0.5), width = 0.2) + \n",
    "  scale_fill_manual(values=c( \"#f69c9e\", \"#99C3EC\")) +\n",
    "  scale_color_manual(values=c( \"#f69c9e\", \"#99C3EC\")) +\n",
    "  theme_minimal() +\n",
    "  geom_point(size=3, shape=21, colour=\"white\", stroke = 0.5,position=position_dodge(width = 0.5)) +\n",
    "  xlab(\"discourse\") + ylab(\"factor score\") + ggtitle('upvotes to no votes') + #+ theme(text=element_text(size=13)) + theme(aspect.ratio = 0.7) + +\n",
    "  ylim(-0.2, 0.4)\n",
    "ggsave(plot = q, width = 5, height = 3, dpi = 300, filename = \"upvote_novote.png\") \n",
    "q"
   ]
  }
 ],
 "metadata": {
  "environment": {
   "name": "r-cpu.3-6.m65",
   "type": "gcloud",
   "uri": "gcr.io/deeplearning-platform-release/r-cpu.3-6:m65"
  },
  "kernelspec": {
   "display_name": "R",
   "language": "R",
   "name": "ir"
  },
  "language_info": {
   "codemirror_mode": "r",
   "file_extension": ".r",
   "mimetype": "text/x-r-source",
   "name": "R",
   "pygments_lexer": "r",
   "version": "3.6.3"
  }
 },
 "nbformat": 4,
 "nbformat_minor": 5
}
